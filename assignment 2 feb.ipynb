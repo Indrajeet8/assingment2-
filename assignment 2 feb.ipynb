{
 "cells": [
  {
   "cell_type": "code",
   "execution_count": null,
   "id": "08cb4e79-925e-407a-b527-58f15042d38b",
   "metadata": {},
   "outputs": [],
   "source": [
    "#ques - 1"
   ]
  },
  {
   "cell_type": "code",
   "execution_count": null,
   "id": "8d2710ef-b718-46f7-95d0-3d3e0b397bbe",
   "metadata": {},
   "outputs": [],
   "source": [
    "# Q1. Explain with an example each when to use a for loop and a while loo"
   ]
  },
  {
   "cell_type": "code",
   "execution_count": null,
   "id": "dec8dade-bbd0-4ec7-a5ec-600aded55e81",
   "metadata": {},
   "outputs": [],
   "source": [
    "Use a for loop when you know the loop should execute n times\n",
    " Use a while loop for reading a file into a variable. Use a while loop when asking for user input. Use a while loop when the increment value is nonstandard"
   ]
  },
  {
   "cell_type": "code",
   "execution_count": null,
   "id": "e13ce65f-fed5-4d2f-9f18-81ef35673b59",
   "metadata": {},
   "outputs": [],
   "source": []
  },
  {
   "cell_type": "code",
   "execution_count": 2,
   "id": "0c7de9e5-9747-4e6a-8a7f-ba657452c386",
   "metadata": {},
   "outputs": [],
   "source": [
    "# for loop "
   ]
  },
  {
   "cell_type": "code",
   "execution_count": 4,
   "id": "7f72c677-fdd9-45d2-9090-bb95a0f0ce08",
   "metadata": {},
   "outputs": [
    {
     "name": "stdout",
     "output_type": "stream",
     "text": [
      "lion\n",
      "tiger\n",
      "elephant\n"
     ]
    }
   ],
   "source": [
    "animals = [\"lion\", \"tiger\", \"elephant\"]\n",
    "for x in animals :\n",
    "  print(x)"
   ]
  },
  {
   "cell_type": "code",
   "execution_count": 5,
   "id": "53853c46-f725-4705-9bc3-a06461fe59d1",
   "metadata": {},
   "outputs": [],
   "source": [
    "#while loop"
   ]
  },
  {
   "cell_type": "code",
   "execution_count": 6,
   "id": "cc0cb296-915e-4b61-a11c-c565be6e1e30",
   "metadata": {},
   "outputs": [
    {
     "name": "stdout",
     "output_type": "stream",
     "text": [
      "1\n",
      "2\n",
      "3\n",
      "4\n",
      "5\n",
      "6\n",
      "7\n",
      "8\n",
      "9\n"
     ]
    }
   ],
   "source": [
    "i = 1\n",
    "while i < 10:\n",
    "  print(i)\n",
    "  i += 1"
   ]
  },
  {
   "cell_type": "code",
   "execution_count": null,
   "id": "309e4d05-df0c-482b-92bc-37b1b58030c8",
   "metadata": {},
   "outputs": [],
   "source": [
    "ques = 2"
   ]
  },
  {
   "cell_type": "code",
   "execution_count": null,
   "id": "f2e20e38-7959-471e-a743-a1105da4bdb4",
   "metadata": {},
   "outputs": [],
   "source": [
    "# Q2. Write a python program to print the sum and product of the first 10 natural numbers using for\n",
    "# and while loop."
   ]
  },
  {
   "cell_type": "code",
   "execution_count": 10,
   "id": "5e15710a-3d83-4299-b70c-43aed4f3cf2a",
   "metadata": {},
   "outputs": [
    {
     "name": "stdout",
     "output_type": "stream",
     "text": [
      "sum of first 10 num:  190\n",
      "product of first 10 num:  121645100408832000\n"
     ]
    }
   ],
   "source": [
    "sum=0\n",
    "product=1\n",
    "i=1\n",
    "while(i<20):\n",
    "    sum=sum+i\n",
    "    product=product*i\n",
    "    i=i+1\n",
    "print(\"sum of first 10 num: \",sum)\n",
    "print(\"product of first 10 num: \",product)"
   ]
  },
  {
   "cell_type": "code",
   "execution_count": 11,
   "id": "f1292383-ff68-4002-82ba-3d9d44a7aade",
   "metadata": {},
   "outputs": [],
   "source": [
    "#Q3. Create a python program to compute the electricity bill for a household.\n",
    "# The per-unit charges in rupees are as follows: For the first 100 units, the user will be charged Rs. 4.5 per\n",
    "# unit, for the next 100 units, the user will be charged Rs. 6 per unit, and for the next 100 units, the user will\n",
    "# be charged Rs. 10 per unit, After 300 units and above the user will be charged Rs. 20 per unit."
   ]
  },
  {
   "cell_type": "code",
   "execution_count": 17,
   "id": "dee0976f-a026-48cb-948e-58626243ecf6",
   "metadata": {},
   "outputs": [
    {
     "name": "stdin",
     "output_type": "stream",
     "text": [
      "enter used units 310\n"
     ]
    },
    {
     "name": "stdout",
     "output_type": "stream",
     "text": [
      "2250.0\n"
     ]
    }
   ],
   "source": [
    "units = int(input(\"enter used units\"))\n",
    "bill = 1\n",
    "if (units<=100) :\n",
    "    bill = units*4.5\n",
    "elif (units>100 and units <200):\n",
    "    unit = units-100\n",
    "    bill = unit*6+100*4.5\n",
    "elif(units>200 and units<= 300):\n",
    "    unit = units-200\n",
    "    bill = unit*10+ 100*6+100*4.5\n",
    "else :\n",
    "    unit = units-300\n",
    "    bill = unit*20+100*4.5+100*6+100*10\n",
    "print(bill)"
   ]
  },
  {
   "cell_type": "code",
   "execution_count": 18,
   "id": "3a620cd4-8ef8-4056-b667-826c5578684f",
   "metadata": {},
   "outputs": [],
   "source": [
    "#Ques4"
   ]
  },
  {
   "cell_type": "code",
   "execution_count": null,
   "id": "a6f999f4-a1fd-4ac6-95f0-f06aa5a6de85",
   "metadata": {},
   "outputs": [],
   "source": [
    "l = []\n",
    "l_cub_div=[]\n",
    "i=1\n",
    "while i<100:\n",
    "    l.append(i)\n",
    "    if(i**3)%4 == 0 or(i**3)%5 == 0:\n",
    "        l_cub_div.append(i)\n",
    "        i=i+1"
   ]
  },
  {
   "cell_type": "code",
   "execution_count": null,
   "id": "00cdc614-29a9-4ad6-8a28-fc81ebdc5b33",
   "metadata": {},
   "outputs": [],
   "source": [
    "#ques5"
   ]
  },
  {
   "cell_type": "code",
   "execution_count": 1,
   "id": "67f23ab8-3129-4e04-919e-4cfdabdcb7bf",
   "metadata": {},
   "outputs": [],
   "source": [
    "str = \" i want to become a data scientist\""
   ]
  },
  {
   "cell_type": "code",
   "execution_count": 8,
   "id": "b2e2654c-6e0f-47da-90df-c1890147a3fc",
   "metadata": {},
   "outputs": [
    {
     "name": "stdout",
     "output_type": "stream",
     "text": [
      "number of vowels= 12\n",
      "[]\n"
     ]
    }
   ],
   "source": [
    "l2=[]\n",
    "str=str.lower()\n",
    "vowels=['a','i','o','e','u']\n",
    "count=0\n",
    "for char in str:\n",
    "    if char in vowels:\n",
    "        count=count+1\n",
    "        l2.count(char)\n",
    "print(\"number of vowels=\",count)\n",
    "print(l2)"
   ]
  },
  {
   "cell_type": "code",
   "execution_count": null,
   "id": "783ee8ea-953b-4580-9b6e-720e045bda66",
   "metadata": {},
   "outputs": [],
   "source": []
  }
 ],
 "metadata": {
  "kernelspec": {
   "display_name": "Python 3 (ipykernel)",
   "language": "python",
   "name": "python3"
  },
  "language_info": {
   "codemirror_mode": {
    "name": "ipython",
    "version": 3
   },
   "file_extension": ".py",
   "mimetype": "text/x-python",
   "name": "python",
   "nbconvert_exporter": "python",
   "pygments_lexer": "ipython3",
   "version": "3.10.8"
  }
 },
 "nbformat": 4,
 "nbformat_minor": 5
}
